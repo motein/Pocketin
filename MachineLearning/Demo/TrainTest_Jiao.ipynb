{
 "cells": [
  {
   "cell_type": "code",
   "execution_count": 10,
   "metadata": {},
   "outputs": [
    {
     "name": "stdout",
     "output_type": "stream",
     "text": [
      "A\n",
      "cn569306\n",
      "...............................................................................................................................................................................................jianji01\n",
      ".................................................................................................................................................................................................mingfang\n",
      "......................................................................................................................................................................................................mingmyao\n",
      "......................................................................................................................................................pengzh01\n",
      "................................................................................................................................................................xinchen\n",
      "xiongan2\n",
      ".........................................................................................................................................................................................................................................................................yiliang1\n",
      ".....................................................................................................................................................................yingying\n",
      ".....yueguo01\n",
      "yukunh01\n",
      "...............................................................................................................B\n",
      "cn569306\n",
      "............................................................................................................................................................................................................................................jianji01\n",
      "......................................................................................................................................................................................mingfang\n",
      ".......................................................................................................................................................................................................mingmyao\n",
      "......................................................................................................................................................pengzh01\n",
      ".................................................................................................................................................................xinchen\n",
      "xiongan2\n",
      ".............................................................................................................................................................................................................................................................................yiliang1\n",
      "................................................................................................................................................................yingying\n",
      "...yueguo01\n",
      "yukunh01\n",
      "....................................................................................................C1\n",
      "cn569306\n",
      ".....................................................................jianji01\n",
      "......................................................mingfang\n",
      "...................................................mingmyao\n",
      "..............................pengzh01\n",
      "........................................xinchen\n",
      "xiongan2\n",
      "..............................................................................yiliang1\n",
      "...........................................yingying\n",
      "..yueguo01\n",
      "yukunh01\n",
      "....................C2\n",
      "cn569306\n",
      "...............................................................jianji01\n",
      "...........................................mingfang\n",
      "......................................mingmyao\n",
      "..............................pengzh01\n",
      "........................................xinchen\n",
      "xiongan2\n",
      "................................................................yiliang1\n",
      "........................................yingying\n",
      "....yueguo01\n",
      "yukunh01\n",
      "....................C3\n",
      "cn569306\n",
      "...................................................jianji01\n",
      "......................................................mingfang\n",
      "..................................................................................mingmyao\n",
      "..............................pengzh01\n",
      "........................................xinchen\n",
      "xiongan2\n",
      "........................................................................................yiliang1\n",
      "........................................yingying\n",
      "..yueguo01\n",
      "yukunh01\n",
      "....................C4\n",
      "cn569306\n",
      "............................................................jianji01\n",
      ".............................................................mingfang\n",
      ".......................................................................mingmyao\n",
      "..............................pengzh01\n",
      "........................................xinchen\n",
      "xiongan2\n",
      ".........................................................................................yiliang1\n",
      ".........................................yingying\n",
      "....yueguo01\n",
      "yukunh01\n",
      "....................C5\n",
      "cn569306\n",
      ".....................................jianji01\n",
      "........................................................mingfang\n",
      "...................................................mingmyao\n",
      "..............................pengzh01\n",
      "..............................xinchen\n",
      "xiongan2\n",
      ".........................................................................yiliang1\n",
      ".........................................yingying\n",
      "...yueguo01\n",
      "yukunh01\n",
      "....................0:27:08.268811\n"
     ]
    }
   ],
   "source": [
    "#Compress original to small size and gray type\n",
    "#to improve later operation speed\n",
    "from PIL import Image\n",
    "import os\n",
    "from os import listdir\n",
    "from os.path import isdir, join\n",
    "from datetime import datetime\n",
    "begin = datetime.now()\n",
    "root = r'D:\\DL_data\\origin'\n",
    "root_resized = r'C:\\DL_data\\dp1_thumbnail'\n",
    "\n",
    "assetTypes=['A', 'B','C1','C2','C3','C4','C5']\n",
    "file_indexes = {}\n",
    "for t in assetTypes:\n",
    "    date_indexes = {}\n",
    "    for date in ['1016', '1017', '1018']:\n",
    "        date_indexes[date] = 1\n",
    "    file_indexes[t] = date_indexes\n",
    "\n",
    "def process_image(image_file):\n",
    "    im = Image.open(image_file)\n",
    "    #im = im.convert('L')    \n",
    "    #x, y = im.size\n",
    "    #if (y > x):\n",
    "    #    im = im.rotate(90, expand=True)        \n",
    "    x, y = im.size\n",
    "    newsize=512\n",
    "    if (y > x):\n",
    "        resize_x = newsize\n",
    "        resize_y = newsize * y / x\n",
    "    else:\n",
    "        resize_y = newsize\n",
    "        resize_x = newsize * x / y\n",
    "    im.thumbnail((resize_x, resize_y), Image.ANTIALIAS)    \n",
    "    #target_x = 224\n",
    "    #target_y = 168\n",
    "    #new_size = (resize_x/2 - target_x/2, resize_y/2 - target_y/2, resize_x/2 + target_x/2, resize_y/2 + target_y/2)\n",
    "    #im = im.crop(new_size)    \n",
    "    return im\n",
    "\n",
    "# types = [f for f in listdir(root) if isdir(join(root, f))]\n",
    "for t in assetTypes:\n",
    "    print(t)\n",
    "    type_folder = join(root, t)\n",
    "    users = [f for f in listdir(type_folder) if isdir(join(type_folder, f))]\n",
    "    for user in users:\n",
    "        print(user)\n",
    "        user_folder = join(type_folder, user)\n",
    "        onoffs = [f for f in listdir(user_folder) if isdir(join(user_folder, f))]\n",
    "        for onoff in onoffs:\n",
    "            onoff_folder = join(user_folder, onoff)\n",
    "            with os.scandir(onoff_folder) as pictures:\n",
    "                for picture in pictures:                      \n",
    "                    stat = picture.stat()\n",
    "                    date = datetime.fromtimestamp(stat.st_mtime)\n",
    "                    if not picture.name.endswith('.jpg'):\n",
    "                        continue\n",
    "                    im = process_image(join(onoff_folder, picture.name))\n",
    "                    dateString = \"%2d%2d\"%(date.month, date.day)\n",
    "                    index = file_indexes[t][dateString]\n",
    "                    im.save(join(root_resized, \"%s_%s_%s_%s_%05d.jpg\"%(t,onoff,dateString,user,  index)), \"JPEG\")\n",
    "                    file_indexes[t][dateString] = index + 1\n",
    "                    print('.', end='')\n",
    "        print('')\n",
    "                    \n",
    "elapse = datetime.now() - begin\n",
    "print(elapse)"
   ]
  },
  {
   "cell_type": "code",
   "execution_count": 81,
   "metadata": {},
   "outputs": [
    {
     "data": {
      "text/plain": [
       "<matplotlib.image.AxesImage at 0x201b80badd8>"
      ]
     },
     "execution_count": 81,
     "metadata": {},
     "output_type": "execute_result"
    },
    {
     "data": {
      "image/png": "[encoded data removed]",
      "text/plain": [
       "<Figure size 432x288 with 1 Axes>"
      ]
     },
     "metadata": {},
     "output_type": "display_data"
    }
   ],
   "source": [
    "#Example of image to profile\n",
    "import cv2 as cv\n",
    "\n",
    "import matplotlib.pyplot as plt\n",
    "\n",
    "sample=r'C:\\DL_Data\\dp1_thumbnail\\A_off_1016_cn569306_00001.jpg'\n",
    "result=r'C:\\DL_Data\\A_off_1016_cn569306_00001_profile.jpg'\n",
    "#sample=r'C:\\DL_Data\\IMG_20181016_151241_1.jpg'\n",
    "\n",
    "def displayImages(list):\n",
    "    imgRow=1\n",
    "    imgCol=len(list)\n",
    "    f = plt.figure()\n",
    "    for i in range(1,imgCol):\n",
    "        f.add_subplot(imgRow,imgCol,i)\n",
    "        plt.imshow(list[i])\n",
    "    plt.show()\n",
    "    \n",
    "def saveToProfileImg(fromPath,toPath):\n",
    "    imgOrg=cv.imread(fromPath)\n",
    "    imgGray=cv.cvtColor(imgOrg, cv.COLOR_BGR2GRAY)\n",
    "    imgBlur=cv.GaussianBlur(imgGray,(5,5),0)\n",
    "    imgEdge=cv.Canny(imgBlur,1,80)\n",
    "    \n",
    "    th=100\n",
    "    ret,imgBin=cv.threshold(imgEdge,th,255,cv.THRESH_BINARY_INV)\n",
    "    \n",
    "    cv.imwrite(toPath,imgBin)\n",
    "    \n",
    "    return imgBin    \n",
    "\n",
    "img=saveToProfileImg(sample,result)\n",
    "\n",
    "#im = Image.open(imgBin)\n",
    "#img=im.rotate(90, expand=True)  \n",
    "imshow(img)\n"
   ]
  },
  {
   "cell_type": "code",
   "execution_count": 88,
   "metadata": {},
   "outputs": [
    {
     "ename": "TypeError",
     "evalue": "object of type 'nt.ScandirIterator' has no len()",
     "output_type": "error",
     "traceback": [
      "\u001b[1;31m---------------------------------------------------------------------------\u001b[0m",
      "\u001b[1;31mTypeError\u001b[0m                                 Traceback (most recent call last)",
      "\u001b[1;32m<ipython-input-88-e31696079277>\u001b[0m in \u001b[0;36m<module>\u001b[1;34m()\u001b[0m\n\u001b[0;32m      9\u001b[0m \u001b[1;33m\u001b[0m\u001b[0m\n\u001b[0;32m     10\u001b[0m \u001b[1;32mwith\u001b[0m \u001b[0mos\u001b[0m\u001b[1;33m.\u001b[0m\u001b[0mscandir\u001b[0m\u001b[1;33m(\u001b[0m\u001b[0mroot\u001b[0m\u001b[1;33m)\u001b[0m \u001b[1;32mas\u001b[0m \u001b[0mpictures\u001b[0m\u001b[1;33m:\u001b[0m\u001b[1;33m\u001b[0m\u001b[0m\n\u001b[1;32m---> 11\u001b[1;33m     \u001b[1;32mfor\u001b[0m \u001b[0mpicture\u001b[0m \u001b[1;32min\u001b[0m \u001b[0mlog_progress\u001b[0m\u001b[1;33m(\u001b[0m\u001b[0mpictures\u001b[0m\u001b[1;33m,\u001b[0m\u001b[0mevery\u001b[0m\u001b[1;33m=\u001b[0m\u001b[1;36m1\u001b[0m\u001b[1;33m,\u001b[0m\u001b[0msize\u001b[0m\u001b[1;33m=\u001b[0m\u001b[0mlen\u001b[0m\u001b[1;33m(\u001b[0m\u001b[0mpictures\u001b[0m\u001b[1;33m)\u001b[0m\u001b[1;33m)\u001b[0m\u001b[1;33m:\u001b[0m \u001b[1;31m#https://github.com/alexanderkuk/log-progress\u001b[0m\u001b[1;33m\u001b[0m\u001b[0m\n\u001b[0m\u001b[0;32m     12\u001b[0m         \u001b[1;32mif\u001b[0m \u001b[1;32mnot\u001b[0m \u001b[0mpicture\u001b[0m\u001b[1;33m.\u001b[0m\u001b[0mname\u001b[0m\u001b[1;33m.\u001b[0m\u001b[0mendswith\u001b[0m\u001b[1;33m(\u001b[0m\u001b[1;34m'.jpg'\u001b[0m\u001b[1;33m)\u001b[0m\u001b[1;33m:\u001b[0m\u001b[1;33m\u001b[0m\u001b[0m\n\u001b[0;32m     13\u001b[0m             \u001b[1;32mcontinue\u001b[0m\u001b[1;33m\u001b[0m\u001b[0m\n",
      "\u001b[1;31mTypeError\u001b[0m: object of type 'nt.ScandirIterator' has no len()"
     ]
    }
   ],
   "source": [
    "#all images to profile\n",
    "from datetime import datetime\n",
    "import os\n",
    "from os.path import isdir, join\n",
    "\n",
    "begin = datetime.now()\n",
    "root = r'C:\\DL_data\\dp1_thumbnail'\n",
    "root_processed = r'C:\\DL_data\\dp2_profile'\n",
    "\n",
    "with os.scandir(root) as pictures:\n",
    "    for picture in pictures:               \n",
    "        if not picture.name.endswith('.jpg'):\n",
    "            continue\n",
    "        srcPath=join(root, picture.name)\n",
    "        destPath=join(root_processed,picture.name)\n",
    "        im = saveToProfileImg(srcPath,destPath)\n",
    "\n",
    "elapse = datetime.now() - begin\n",
    "print(elapse)"
   ]
  },
  {
   "cell_type": "code",
   "execution_count": 139,
   "metadata": {},
   "outputs": [
    {
     "name": "stdout",
     "output_type": "stream",
     "text": []
    },
    {
     "name": "stdout",
     "output_type": "stream",
     "text": []
    },
    {
     "name": "stdout",
     "output_type": "stream",
     "text": []
    },
    {
     "name": "stdout",
     "output_type": "stream",
     "text": []
    },
    {
     "name": "stdout",
     "output_type": "stream",
     "text": []
    },
    {
     "name": "stdout",
     "output_type": "stream",
     "text": []
    },
    {
     "name": "stdout",
     "output_type": "stream",
     "text": []
    },
    {
     "name": "stdout",
     "output_type": "stream",
     "text": []
    },
    {
     "name": "stdout",
     "output_type": "stream",
     "text": []
    },
    {
     "name": "stdout",
     "output_type": "stream",
     "text": []
    },
    {
     "name": "stdout",
     "output_type": "stream",
     "text": [
      "0:01:20.945501\n"
     ]
    }
   ],
   "source": [
    " #adjust size or shape\n",
    "#from IPython.display import clear_output\n",
    "from datetime import datetime\n",
    "import os\n",
    "from os.path import isdir, join\n",
    "imgSize=200\n",
    "\n",
    "begin = datetime.now()\n",
    "root = r'C:\\DL_data\\dp2_profile'\n",
    "root_processed = r'C:\\DL_data\\dp3_resized'\n",
    "\n",
    "def adjustSize(srcPath,dstPath,size):\n",
    "    im = Image.open(srcPath)\n",
    "    x, y = im.size\n",
    "    if (y > x): \n",
    "        resize_y = size\n",
    "        resize_x = size * x / y\n",
    "    else:\n",
    "        resize_x = size\n",
    "        resize_y = size * y / x\n",
    "        \n",
    "    im.thumbnail((resize_x, resize_y), Image.ANTIALIAS)    \n",
    "    im.save(dstPath)\n",
    "    \n",
    "    return\n",
    "\n",
    "with os.scandir(root) as pictures:\n",
    "    for picture in pictures: \n",
    "               \n",
    "        if not picture.name.endswith('.jpg'):\n",
    "            continue\n",
    "        srcPath=join(root, picture.name)\n",
    "        destPath=join(root_processed,picture.name)\n",
    "        adjustSize(srcPath,destPath,imgSize)\n",
    "    \n",
    "    \n",
    "elapse = datetime.now() - begin\n",
    "print(elapse)"
   ]
  },
  {
   "cell_type": "code",
   "execution_count": 8,
   "metadata": {},
   "outputs": [
    {
     "name": "stdout",
     "output_type": "stream",
     "text": [
      "Count of  A : 1438, 1200 for training, 200 for testing.\n",
      "Count of  B : 1460, 1200 for training, 200 for testing.\n",
      "Count of  C : 1893, 1200 for training, 200 for testing.\n",
      "job done! 0:00:26.318758\n"
     ]
    }
   ],
   "source": [
    "#split data set into training and test\n",
    "import os\n",
    "from os import listdir\n",
    "from os.path import isdir, join\n",
    "from datetime import datetime\n",
    "import random\n",
    "from random import randint\n",
    "\n",
    "import shutil\n",
    "\n",
    "begin = datetime.now()\n",
    "src_folder = r'C:\\DL_Data\\dp3_resized'\n",
    "training_folder = r'C:\\DL_Data\\dp9_train'\n",
    "test_folder = r'C:\\DL_Data\\dp9_test'\n",
    "\n",
    "def create_folder(folder):\n",
    "    if not os.path.exists(folder):\n",
    "        os.makedirs(folder)\n",
    "        \n",
    "def classify_image_files(nameList, idx, src,dst):\n",
    "    create_folder(dst)\n",
    "    for i in idx:\n",
    "        source_file = join(src, nameList[i])\n",
    "        destination_file = join(dst, nameList[i])\n",
    "        shutil.copyfile(source_file, destination_file)        \n",
    "        \n",
    "files={}\n",
    "for asset in ['A', 'B','C']:     \n",
    "    files[asset]=[]\n",
    "\n",
    "for f in listdir(src_folder):\n",
    "    for asset in ['A', 'B','C']:         \n",
    "        if f.startswith(asset): files[asset].append(f)\n",
    "\n",
    "for asset in ['A', 'B','C']: \n",
    "    print('Count of ',asset,':',len(files[asset]),end='')\n",
    "    idx=list(range(1,1401))\n",
    "    random.shuffle(idx)\n",
    "    classify_image_files(files[asset],idx[:1200], src_folder,training_folder)\n",
    "    classify_image_files(files[asset],idx[1201:1401], src_folder,test_folder)\n",
    "    print(', 1200 for training, 200 for testing.')\n",
    "\n",
    "        \n",
    "elapse = datetime.now() - begin\n",
    "print('job done!',elapse)"
   ]
  },
  {
   "cell_type": "code",
   "execution_count": 42,
   "metadata": {},
   "outputs": [
    {
     "name": "stdout",
     "output_type": "stream",
     "text": [
      "time elapsed: 0:00:00.009010\n",
      "loading test data\n",
      ">>>>>\n",
      "(597, 200, 200)\n",
      "(597,)\n",
      "[[0.         0.         0.         ... 0.03921569 0.34509804 0.27058824]\n",
      " [0.         0.         0.         ... 0.07058824 0.34901961 0.25882353]\n",
      " [0.         0.         0.         ... 0.11372549 0.3372549  0.22745098]\n",
      " ...\n",
      " [0.         0.         0.         ... 0.         0.         0.        ]\n",
      " [0.         0.         0.         ... 0.         0.         0.        ]\n",
      " [0.         0.         0.         ... 0.         0.         0.        ]]\n",
      "time elapsed: 0:00:23.464562\n",
      "loading training data\n",
      ">>>>>>>>>>>>>>>>>>>>>>>>>>>>>>>>>>>>\n",
      "(3600, 200, 200)\n",
      "(3600,)\n",
      "[[0.         0.         0.         ... 0.         0.         0.        ]\n",
      " [0.         0.         0.         ... 0.00784314 0.01176471 0.01568627]\n",
      " [0.         0.         0.         ... 0.         0.         0.        ]\n",
      " ...\n",
      " [0.         0.         0.         ... 0.         0.         0.        ]\n",
      " [0.         0.         0.         ... 0.         0.         0.        ]\n",
      " [0.         0.         0.         ... 0.         0.         0.        ]]\n",
      "time elapsed: 0:03:09.661886\n"
     ]
    }
   ],
   "source": [
    "#load to numpy array\n",
    "from PIL import Image\n",
    "import numpy as np\n",
    "from datetime import datetime\n",
    "import os\n",
    "from os import listdir\n",
    "from os.path import isdir, join\n",
    "\n",
    "begin = datetime.now()\n",
    "#processed_folder = r'C:\\Zdata\\DL pictures\\Processed'\n",
    "training_folder = r'C:\\DL_Data\\dp9_train'\n",
    "test_folder = r'C:\\DL_Data\\dp9_test'\n",
    "\n",
    "imgSize=200\n",
    "\n",
    "def load_data(data_folder):\n",
    "    image_list = []\n",
    "    label_list = []\n",
    "    cnt=0\n",
    "    with os.scandir(data_folder) as image_files:\n",
    "        for image_file in image_files:                      \n",
    "            if not image_file.name.endswith('.jpg'):\n",
    "                continue\n",
    "            image_array = np.ndarray((imgSize, imgSize))\n",
    "            image = Image.open(join(data_folder, image_file.name))\n",
    "            width, height = image.size\n",
    "            for y in range(imgSize):\n",
    "                for x in range(imgSize):\n",
    "                    if x>=width or y>=height:\n",
    "                        image_array[y][x] =0 #0=white, no data\n",
    "                    else:\n",
    "                        image_array[y][x] =255-image.getpixel((x,y))\n",
    "                    \n",
    "            image_list.append(image_array)\n",
    "            category = image_file.name[:1]\n",
    "            label=0\n",
    "            if category == 'A':label=1\n",
    "            if category == 'B':label=2\n",
    "            if category == 'C':label=0\n",
    "            label_list.append(label)\n",
    "            #print(label)\n",
    "            cnt=cnt+1\n",
    "            if(cnt==100):\n",
    "                print('>',end='')\n",
    "                cnt=0\n",
    "            #label_list.append([0 if category == 'A' else 1, 0 if category == 'B' else 1])\n",
    "        print('')\n",
    "            \n",
    "    images = np.array(image_list, np.int32)\n",
    "    labels = np.array(label_list, np.int32)\n",
    "    return images, labels\n",
    "\n",
    "print('time elapsed:',datetime.now() - begin)\n",
    "print('loading test data')\n",
    "test_images, test_labels = load_data(test_folder)\n",
    "print(test_images.shape)\n",
    "print(test_labels.shape)\n",
    "\n",
    "test_images = test_images / 255.0\n",
    "print(test_images[0])\n",
    "\n",
    "print('time elapsed:',datetime.now() - begin)\n",
    "print('loading training data')\n",
    "training_images, training_labels = load_data(training_folder)\n",
    "print(training_images.shape)\n",
    "print(training_labels.shape)\n",
    "\n",
    "training_images = training_images / 255.0\n",
    "print(training_images[0])\n",
    "\n",
    "\n",
    "\n",
    "print('time elapsed:',datetime.now() - begin)"
   ]
  },
  {
   "cell_type": "code",
   "execution_count": 43,
   "metadata": {},
   "outputs": [
    {
     "name": "stdout",
     "output_type": "stream",
     "text": [
      "save done\n"
     ]
    }
   ],
   "source": [
    "#save array to file\n",
    "file_train_image=r'C:\\DL_Data\\data\\train_image'\n",
    "file_train_label=r'C:\\DL_Data\\data\\train_label'\n",
    "file_test_image=r'C:\\DL_Data\\data\\test_image'\n",
    "file_test_label=r'C:\\DL_Data\\data\\test_label'\n",
    "np.save(file_train_image,training_images)\n",
    "np.save(file_train_label,training_labels)\n",
    "np.save(file_test_image,test_images)\n",
    "np.save(file_test_label,test_labels)\n",
    "\n",
    "print('save done')"
   ]
  },
  {
   "cell_type": "code",
   "execution_count": 6,
   "metadata": {},
   "outputs": [
    {
     "name": "stdout",
     "output_type": "stream",
     "text": [
      "load done\n"
     ]
    }
   ],
   "source": [
    "#load array from file\n",
    "#after a browser restart\n",
    "import numpy as np\n",
    "file_train_image=r'C:\\DL_Data\\data\\train_image.npy'\n",
    "file_train_label=r'C:\\DL_Data\\data\\train_label.npy'\n",
    "file_test_image=r'C:\\DL_Data\\data\\test_image.npy'\n",
    "file_test_label=r'C:\\DL_Data\\data\\test_label.npy'\n",
    "\n",
    "training_images=np.load(file_train_image)\n",
    "training_labels=np.load(file_train_label)\n",
    "test_images=np.load(file_test_image)\n",
    "test_labels=np.load(file_test_label)\n",
    "\n",
    "print('load done')"
   ]
  },
  {
   "cell_type": "code",
   "execution_count": 44,
   "metadata": {},
   "outputs": [],
   "source": [
    "#model using keras\n",
    "import keras\n",
    "keras.__version__\n",
    "import numpy as np"
   ]
  },
  {
   "cell_type": "code",
   "execution_count": 45,
   "metadata": {},
   "outputs": [
    {
     "name": "stdout",
     "output_type": "stream",
     "text": [
      "(200, 200) (3600,) <class 'numpy.ndarray'>\n",
      "<class 'numpy.ndarray'> <class 'numpy.ndarray'>\n",
      "label= 2 , index= 2000\n"
     ]
    },
    {
     "data": {
      "image/png": "[encoded data removed]",
      "text/plain": [
       "<Figure size 432x288 with 1 Axes>"
      ]
     },
     "metadata": {},
     "output_type": "display_data"
    }
   ],
   "source": [
    "\n",
    "print(np.shape(training_images[0]), np.shape(training_labels), type(training_images))\n",
    "print(type(training_labels), type(training_images[0]))\n",
    "\n",
    "idx=2000\n",
    "print('label=',training_labels[idx],', index=',idx)\n",
    "digit = training_images[idx]\n",
    "import matplotlib.pyplot as plt\n",
    "plt.imshow(digit, cmap=plt.cm.binary)\n",
    "plt.show()\n"
   ]
  },
  {
   "cell_type": "code",
   "execution_count": 46,
   "metadata": {},
   "outputs": [
    {
     "name": "stdout",
     "output_type": "stream",
     "text": [
      "(3600, 200, 200) (3600,)\n",
      "(597, 200, 200) (597,)\n"
     ]
    }
   ],
   "source": [
    "#prepare the data\n",
    "print(training_images.shape, training_labels.shape)\n",
    "print(test_images.shape, test_labels.shape)"
   ]
  },
  {
   "cell_type": "code",
   "execution_count": 47,
   "metadata": {},
   "outputs": [],
   "source": [
    "#configuration\n",
    "train_count=3600\n",
    "test_count=597\n",
    "input_shape=200*200\n",
    "output_possibility=3"
   ]
  },
  {
   "cell_type": "code",
   "execution_count": 48,
   "metadata": {},
   "outputs": [
    {
     "name": "stdout",
     "output_type": "stream",
     "text": [
      "(3600, 40000) (3600, 3)\n",
      "(597, 40000) (597, 3)\n"
     ]
    }
   ],
   "source": [
    "#transform data\n",
    "from keras.utils import to_categorical\n",
    "\n",
    "train_img_serial = training_images.reshape((train_count, input_shape))\n",
    "train_img_serial = train_img_serial.astype('float32') / 255\n",
    "\n",
    "test_img_serial = test_images.reshape((test_count, input_shape))\n",
    "test_img_serial = test_img_serial.astype('float32') / 255\n",
    "\n",
    "train_lbl_cate = to_categorical(training_labels)\n",
    "test_lbl_cate = to_categorical(test_labels)\n",
    "\n",
    "print(train_img_serial.shape, train_lbl_cate.shape)\n",
    "print(test_img_serial.shape, test_lbl_cate.shape)"
   ]
  },
  {
   "cell_type": "code",
   "execution_count": 53,
   "metadata": {},
   "outputs": [],
   "source": [
    "# layers\n",
    "\n",
    "from keras import models\n",
    "from keras import layers\n",
    "\n",
    "network = models.Sequential()\n",
    "network.add(layers.Dense(512, activation='relu', input_shape=(input_shape,)))\n",
    "network.add(layers.Dense(output_possibility, activation='softmax'))\n",
    "\n",
    "network.compile(optimizer='rmsprop',\n",
    "                loss='categorical_crossentropy',\n",
    "                metrics=['accuracy'])\n"
   ]
  },
  {
   "cell_type": "code",
   "execution_count": 54,
   "metadata": {},
   "outputs": [
    {
     "name": "stdout",
     "output_type": "stream",
     "text": [
      "Epoch 1/12\n",
      "3600/3600 [==============================] - 25s 7ms/step - loss: 1.0560 - acc: 0.4533\n",
      "Epoch 2/12\n",
      "3600/3600 [==============================] - 22s 6ms/step - loss: 0.9621 - acc: 0.5872\n",
      "Epoch 3/12\n",
      "3600/3600 [==============================] - 24s 7ms/step - loss: 0.8864 - acc: 0.6278\n",
      "Epoch 4/12\n",
      "3600/3600 [==============================] - 26s 7ms/step - loss: 0.8243 - acc: 0.6642\n",
      "Epoch 5/12\n",
      "3600/3600 [==============================] - 22s 6ms/step - loss: 0.7707 - acc: 0.6900\n",
      "Epoch 6/12\n",
      "3600/3600 [==============================] - 21s 6ms/step - loss: 0.7250 - acc: 0.7161\n",
      "Epoch 7/12\n",
      "3600/3600 [==============================] - 22s 6ms/step - loss: 0.6854 - acc: 0.7319\n",
      "Epoch 8/12\n",
      "3600/3600 [==============================] - 22s 6ms/step - loss: 0.6436 - acc: 0.7581\n",
      "Epoch 9/12\n",
      "3600/3600 [==============================] - 21s 6ms/step - loss: 0.6108 - acc: 0.7814\n",
      "Epoch 10/12\n",
      "3600/3600 [==============================] - 22s 6ms/step - loss: 0.5735 - acc: 0.7936\n",
      "Epoch 11/12\n",
      "3600/3600 [==============================] - 22s 6ms/step - loss: 0.5424 - acc: 0.8139\n",
      "Epoch 12/12\n",
      "3600/3600 [==============================] - 21s 6ms/step - loss: 0.5128 - acc: 0.8253\n"
     ]
    }
   ],
   "source": [
    "#start training\n",
    "history=network.fit(train_img_serial, train_lbl_cate, epochs=12, batch_size=128)"
   ]
  },
  {
   "cell_type": "code",
   "execution_count": 55,
   "metadata": {},
   "outputs": [
    {
     "name": "stdout",
     "output_type": "stream",
     "text": [
      "597/597 [==============================] - 2s 3ms/step\n",
      "test_acc: 0.6616415419370885\n"
     ]
    }
   ],
   "source": [
    "test_loss, test_acc = network.evaluate(test_img_serial, test_lbl_cate)\n",
    "print('test_acc:', test_acc)"
   ]
  },
  {
   "cell_type": "code",
   "execution_count": 56,
   "metadata": {},
   "outputs": [],
   "source": [
    "network.save(\"mnist.h5\")\n"
   ]
  },
  {
   "cell_type": "code",
   "execution_count": null,
   "metadata": {},
   "outputs": [],
   "source": []
  }
 ],
 "metadata": {
  "kernelspec": {
   "display_name": "Python 3",
   "language": "python",
   "name": "python3"
  },
  "language_info": {
   "codemirror_mode": {
    "name": "ipython",
    "version": 3
   },
   "file_extension": ".py",
   "mimetype": "text/x-python",
   "name": "python",
   "nbconvert_exporter": "python",
   "pygments_lexer": "ipython3",
   "version": "3.6.5"
  }
 },
 "nbformat": 4,
 "nbformat_minor": 2
}
